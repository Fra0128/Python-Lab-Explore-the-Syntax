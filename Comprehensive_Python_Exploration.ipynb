{
 "cells": [
  {
   "cell_type": "markdown",
   "id": "3c59267a-6f3e-481a-b196-d622c14fe237",
   "metadata": {},
   "source": [
    "# Python"
   ]
  },
  {
   "cell_type": "markdown",
   "id": "64db7da1-c275-4f8c-9bfc-21d1af61d2e1",
   "metadata": {},
   "source": [
    "## What's Python"
   ]
  },
  {
   "cell_type": "markdown",
   "id": "0dce837f-6fac-4f99-b3e1-5d6648fa17b4",
   "metadata": {},
   "source": []
  }
 ],
 "metadata": {
  "kernelspec": {
   "display_name": "Python 3 (ipykernel)",
   "language": "python",
   "name": "python3"
  },
  "language_info": {
   "codemirror_mode": {
    "name": "ipython",
    "version": 3
   },
   "file_extension": ".py",
   "mimetype": "text/x-python",
   "name": "python",
   "nbconvert_exporter": "python",
   "pygments_lexer": "ipython3",
   "version": "3.12.0"
  }
 },
 "nbformat": 4,
 "nbformat_minor": 5
}
