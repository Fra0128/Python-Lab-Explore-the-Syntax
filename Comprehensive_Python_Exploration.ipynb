{
 "cells": [
  {
   "cell_type": "markdown",
   "id": "3c59267a-6f3e-481a-b196-d622c14fe237",
   "metadata": {},
   "source": [
    "# Python"
   ]
  },
  {
   "cell_type": "markdown",
   "id": "64db7da1-c275-4f8c-9bfc-21d1af61d2e1",
   "metadata": {},
   "source": [
    "## What's Python"
   ]
  },
  {
   "cell_type": "markdown",
   "id": "0dce837f-6fac-4f99-b3e1-5d6648fa17b4",
   "metadata": {},
   "source": [
    "Python is a high-level, interpreted, and general-purpose programming language created by Guido van Rossum and first released in 1991. It is known for its clear and readable syntax, which emphasizes simplicity and reduces code complexity.\n",
    "\n",
    "### Explanation of Key Terms:\n",
    "- **High-level Language**\n",
    "\n",
    "    Python is defined as \"high-level\" because:\n",
    "\n",
    "    - It's closer to human language than machine language.\n",
    "    - It abstracts many low-level computer details, such as memory management.\n",
    "    - It allows writing more intuitive and less verbose code.\n",
    "\n",
    "- **Interpreted**\n",
    "\n",
    "    Python is an interpreted language, which means that:\n",
    "\n",
    "    - The source code is executed directly by the Python interpreter.\n",
    "    - It doesn't require a separate compilation phase before execution.\n",
    "    - It allows for greater flexibility and ease of debugging, but can be less efficient in terms of performance compared to compiled languages.\n",
    "\n",
    "- **General-purpose**\n",
    "\n",
    "    Being \"general-purpose\" implies that Python:\n",
    "\n",
    "    - Is not specialized for a single problem domain.\n",
    "    - Can be used for a wide range of applications, from web development to data analysis, from automation to machine learning.\n",
    "    - Offers flexibility in approaching problem-solving in different contexts.\n",
    "\n",
    "\n",
    "### Strengths:\n",
    "\n",
    "**Easy to Learn**: Intuitive syntax and code readability make Python ideal for beginners.\n",
    "\n",
    "**Versatile**: Used in various fields such as web development, data science, artificial intelligence, automation, and much more.\n",
    "\n",
    "**Extensive Standard Library**: Provides modules and tools for many common tasks, reducing the need for external code.\n",
    "\n",
    "**Cross-platform Support**: Works on various operating systems like Windows, macOS, and Linux.\n",
    "\n",
    "**Active Community**: A vast community of developers contributing libraries, frameworks, and support.\n",
    "\n",
    "**Interpreted**: Doesn't require compilation, allowing for rapid prototyping and debugging.\n",
    "\n",
    "---\n",
    "\n",
    "*This notebook will explore various aspects of Python syntax, providing practical examples and explanations to help you master this powerful programming language.*"
   ]
  },
  {
   "cell_type": "markdown",
   "id": "3b72a1d2-fc31-4dc2-9941-fe3bfd5d86b9",
   "metadata": {},
   "source": [
    "## Installing Python"
   ]
  },
  {
   "cell_type": "code",
   "execution_count": null,
   "id": "4fb5fcc0-a3b1-4149-bc5d-dfdca0b305ac",
   "metadata": {},
   "outputs": [],
   "source": []
  },
  {
   "cell_type": "markdown",
   "id": "eb7e5784-5129-40a5-93c5-708fb9cf827e",
   "metadata": {},
   "source": [
    "## Your First Python Program: \"Hello, World!\""
   ]
  },
  {
   "cell_type": "code",
   "execution_count": null,
   "id": "e2a6616f-c9fe-472c-9b63-6bba67ff8417",
   "metadata": {},
   "outputs": [],
   "source": []
  },
  {
   "cell_type": "markdown",
   "id": "21bc660f-b26a-4635-938a-2ba777ff1532",
   "metadata": {},
   "source": [
    "## Using the Python Interpreter"
   ]
  },
  {
   "cell_type": "code",
   "execution_count": null,
   "id": "be7c973b-2c6e-41fe-930b-04e7630beedc",
   "metadata": {},
   "outputs": [],
   "source": []
  },
  {
   "cell_type": "markdown",
   "id": "dafecbc0-2a8a-4568-b8b1-aa39b0f4ef03",
   "metadata": {},
   "source": [
    "---"
   ]
  },
  {
   "cell_type": "markdown",
   "id": "b0c1d7db-b907-479d-8a78-2772f6d44c24",
   "metadata": {},
   "source": [
    "## 1. Basic Syntax and Core Data Types"
   ]
  },
  {
   "cell_type": "markdown",
   "id": "321dc34d-1819-489e-8999-b03c2cacbde4",
   "metadata": {},
   "source": [
    "### Variables and Costants\n",
    "In Python, a variable is a name that refers to a value stored in the computer's memory. Variables are used to store and manipulate data in your programs.\n",
    "\n",
    "#### Creating Variables\n",
    "To create a variable in Python, you simply assign a value to a name:"
   ]
  },
  {
   "cell_type": "code",
   "execution_count": 38,
   "id": "341aed4c-95dc-442e-88ff-bfe7d2dd45ea",
   "metadata": {},
   "outputs": [],
   "source": [
    "x = 5\n",
    "name = \"Alice\""
   ]
  },
  {
   "cell_type": "markdown",
   "id": "83ccb87e-7998-4019-8acd-f6ade147e6d0",
   "metadata": {},
   "source": [
    "Python uses dynamic typing, which means you don't need to declare the type of a variable explicitly. The type is inferred from the value assigned to it.\n",
    "\n",
    "#### Comparison with Statically Typed Languages\n",
    "\n",
    "Unlike Python, languages like `C` and `C++` use static typing:\n",
    "\n",
    "##### C (statically typed):\n",
    "```c\n",
    "int x = 5;      // x is declared as an integer\n",
    "x = \"hello\";    // Error: can't assign a string to an integer variable\n",
    "```\n",
    "\n",
    "##### C++ (statically typed, but with some type inference capabilities):\n",
    "```c++\n",
    "int x = 5;      // x is explicitly declared as an integer\n",
    "x = \"hello\";    // Error: can't assign a string to an integer variable\n",
    "\n",
    "auto y = 5;     // y is automatically deduced to be an integer\n",
    "y = \"hello\";    // Error: can't assign a string to an integer variable\n",
    "```\n",
    "\n",
    "This dynamic typing in `Python` allows for more flexible code, but it also means you need to be careful about type changes during your program's execution. In contrast, `C` and `C++` catch type mismatches at compile time, which can prevent certain types of runtime errors but requires more explicit type management.\n",
    "\n",
    "> Note: Terms like `integer` and `string` are used here for illustration. Other *data types* and *data structures* will also be introduced. Don't worry if you're not familiar with these specific *data types* and *data structures* yet. We'll explore Python's *data types* and *data structures* in detail in the next section."
   ]
  },
  {
   "cell_type": "markdown",
   "id": "be97ea98-06f8-4b05-b66b-718bf457fe57",
   "metadata": {},
   "source": [
    "#### Naming Conventions\n",
    "- Use lowercase letters, numbers, and underscores\n",
    "- Start with a letter or underscore, not a number\n",
    "- Be descriptive but concise\n",
    "- For names with multiple words, separate them with underscores. This is called \"snake_case\"\n",
    "\n",
    "*Examples*:"
   ]
  },
  {
   "cell_type": "code",
   "execution_count": 39,
   "id": "f75ada63-0391-4443-a8b0-7d6ee3e4f93f",
   "metadata": {},
   "outputs": [],
   "source": [
    "user_name = \"John\"\n",
    "age_in_years = 25\n",
    "_temporary_value = 100"
   ]
  },
  {
   "cell_type": "markdown",
   "id": "06046030-8839-4ed9-b2ba-cb075298fbfa",
   "metadata": {},
   "source": [
    "#### Reassigning Variables\n",
    "You can change the value of a variable at any time:"
   ]
  },
  {
   "cell_type": "code",
   "execution_count": 40,
   "id": "ce257406-bc63-46f9-b611-a632832d6a5f",
   "metadata": {},
   "outputs": [
    {
     "name": "stdout",
     "output_type": "stream",
     "text": [
      "5\n",
      "The new value of the variable is:\n",
      "10\n"
     ]
    }
   ],
   "source": [
    "# Initialize variable x\n",
    "x = 5\n",
    "print(x)  # Output the initial value of x\n",
    "\n",
    "# Reassign a new value to variable x\n",
    "x = 10 # Overwrite the previous value of x with 10\n",
    "print('The new value of the variable is:') \n",
    "print(x)  # Output the new value of x after reassignment"
   ]
  },
  {
   "cell_type": "markdown",
   "id": "5bcf2d4b-a642-4826-88d1-4bd06ab6c7ed",
   "metadata": {},
   "source": [
    "#### Variables as References\n",
    "In Python, variables are references to objects in memory. This concept is fundamental to understanding how Python manages memory and how variables behave.\n",
    "\n",
    "#### Basic Concept\n",
    "When you assign a value to a variable, you're creating a reference to an object:"
   ]
  },
  {
   "cell_type": "code",
   "execution_count": 41,
   "id": "1b1a5190-1a65-4452-8b94-f1d96ecefcf9",
   "metadata": {},
   "outputs": [
    {
     "name": "stdout",
     "output_type": "stream",
     "text": [
      "[1, 2, 3, 4]\n",
      "[1, 2, 3, 4]\n"
     ]
    }
   ],
   "source": [
    "a = [1, 2, 3]  # 'a' references a list object\n",
    "b = a          # 'b' now references the same list object as 'a'\n",
    "b.append(4)    # Modifies the list referenced by both 'a' and 'b' by appending 4 to the end of the list\n",
    "print(a)       # Output: [1, 2, 3, 4]\n",
    "print(b)       # Output: [1, 2, 3, 4]"
   ]
  },
  {
   "cell_type": "markdown",
   "id": "3dc80d77-c672-4b74-8ee4-32d47220dc81",
   "metadata": {},
   "source": [
    "#### Immutable vs Mutable Objects\n",
    "The behavior of references becomes particularly important when dealing with mutable (changeable) and immutable (unchangeable) objects:\n",
    "\n",
    "1. Immutable objects (like `int`, `float`, `str`, `tuple`):"
   ]
  },
  {
   "cell_type": "code",
   "execution_count": 42,
   "id": "ca4babe5-c337-4dec-a73c-20449db340b8",
   "metadata": {},
   "outputs": [
    {
     "name": "stdout",
     "output_type": "stream",
     "text": [
      "5\n",
      "10\n"
     ]
    }
   ],
   "source": [
    "x = 5\n",
    "y = x\n",
    "y = 10\n",
    "print(x)  # Output: 5\n",
    "print(y)  # Output: 10"
   ]
  },
  {
   "cell_type": "markdown",
   "id": "c8657d60-717b-4c74-8699-6f7c32dcdeb9",
   "metadata": {},
   "source": [
    "Here, changing `y` doesn't affect `x` because integers are immutable.\n",
    "\n",
    "2. Mutable objects (like `list`, `dict`, `set`):"
   ]
  },
  {
   "cell_type": "code",
   "execution_count": 43,
   "id": "538ec76d-a827-46b5-b712-4a17f9adf2d3",
   "metadata": {},
   "outputs": [
    {
     "name": "stdout",
     "output_type": "stream",
     "text": [
      "[1, 2, 3, 4]\n",
      "[1, 2, 3, 4]\n"
     ]
    }
   ],
   "source": [
    "list1 = [1, 2, 3]\n",
    "list2 = list1\n",
    "list2.append(4) # appending 4 to the end of the list\n",
    "\n",
    "print(list1)  # Output: [1, 2, 3, 4]\n",
    "print(list2)  # Output: [1, 2, 3, 4]"
   ]
  },
  {
   "cell_type": "markdown",
   "id": "75ebe018-3574-4698-895e-778531e48b9f",
   "metadata": {},
   "source": [
    "Here, changing `list2` affects `list1` because they reference the same mutable object.\n",
    "\n",
    "To avoid this behavior and create a separate copy of the object, you can use the copy() method:"
   ]
  },
  {
   "cell_type": "code",
   "execution_count": 44,
   "id": "643711a6-fea0-405d-825b-f2e4a1d15170",
   "metadata": {},
   "outputs": [
    {
     "name": "stdout",
     "output_type": "stream",
     "text": [
      "[1, 2, 3]\n",
      "[1, 2, 3, 4]\n"
     ]
    }
   ],
   "source": [
    "list1 = [1, 2, 3]\n",
    "list2 = list1.copy()  # Creates a new list with the same elements\n",
    "list2.append(4)\n",
    "print(list1)  # Output: [1, 2, 3]\n",
    "print(list2)  # Output: [1, 2, 3, 4]"
   ]
  },
  {
   "cell_type": "markdown",
   "id": "1b4f6d54-01fd-4f79-ab55-45640095bd8a",
   "metadata": {},
   "source": [
    "Using `copy()` creates a new list object for `list2`, so modifying `list2` doesn't affect `list1`. This is useful when you want to work with a copy of a mutable object without changing the original."
   ]
  },
  {
   "cell_type": "code",
   "execution_count": null,
   "id": "6841039c-c608-4f28-89c9-5497408efa16",
   "metadata": {},
   "outputs": [],
   "source": []
  }
 ],
 "metadata": {
  "kernelspec": {
   "display_name": "Python 3 (ipykernel)",
   "language": "python",
   "name": "python3"
  },
  "language_info": {
   "codemirror_mode": {
    "name": "ipython",
    "version": 3
   },
   "file_extension": ".py",
   "mimetype": "text/x-python",
   "name": "python",
   "nbconvert_exporter": "python",
   "pygments_lexer": "ipython3",
   "version": "3.12.0"
  }
 },
 "nbformat": 4,
 "nbformat_minor": 5
}
