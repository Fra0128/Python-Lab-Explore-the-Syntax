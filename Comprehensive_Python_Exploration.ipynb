{
 "cells": [
  {
   "cell_type": "markdown",
   "id": "3c59267a-6f3e-481a-b196-d622c14fe237",
   "metadata": {},
   "source": [
    "# Python"
   ]
  },
  {
   "cell_type": "markdown",
   "id": "64db7da1-c275-4f8c-9bfc-21d1af61d2e1",
   "metadata": {},
   "source": [
    "## What's Python"
   ]
  },
  {
   "cell_type": "markdown",
   "id": "0dce837f-6fac-4f99-b3e1-5d6648fa17b4",
   "metadata": {},
   "source": [
    "Python is a high-level, interpreted, and general-purpose programming language created by Guido van Rossum and first released in 1991. It is known for its clear and readable syntax, which emphasizes simplicity and reduces code complexity.\n",
    "\n",
    "### Explanation of Key Terms:\n",
    "- **High-level Language**\n",
    "\n",
    "    Python is defined as \"high-level\" because:\n",
    "\n",
    "    - It's closer to human language than machine language.\n",
    "    - It abstracts many low-level computer details, such as memory management.\n",
    "    - It allows writing more intuitive and less verbose code.\n",
    "\n",
    "- **Interpreted**\n",
    "\n",
    "    Python is an interpreted language, which means that:\n",
    "\n",
    "    - The source code is executed directly by the Python interpreter.\n",
    "    - It doesn't require a separate compilation phase before execution.\n",
    "    - It allows for greater flexibility and ease of debugging, but can be less efficient in terms of performance compared to compiled languages.\n",
    "\n",
    "- **General-purpose**\n",
    "\n",
    "    Being \"general-purpose\" implies that Python:\n",
    "\n",
    "    - Is not specialized for a single problem domain.\n",
    "    - Can be used for a wide range of applications, from web development to data analysis, from automation to machine learning.\n",
    "    - Offers flexibility in approaching problem-solving in different contexts.\n",
    "\n",
    "\n",
    "### Strengths:\n",
    "\n",
    "**Easy to Learn**: Intuitive syntax and code readability make Python ideal for beginners.\n",
    "\n",
    "**Versatile**: Used in various fields such as web development, data science, artificial intelligence, automation, and much more.\n",
    "\n",
    "**Extensive Standard Library**: Provides modules and tools for many common tasks, reducing the need for external code.\n",
    "\n",
    "**Cross-platform Support**: Works on various operating systems like Windows, macOS, and Linux.\n",
    "\n",
    "**Active Community**: A vast community of developers contributing libraries, frameworks, and support.\n",
    "\n",
    "**Interpreted**: Doesn't require compilation, allowing for rapid prototyping and debugging.\n",
    "\n",
    "---\n",
    "\n",
    "*This notebook will explore various aspects of Python syntax, providing practical examples and explanations to help you master this powerful programming language.*"
   ]
  },
  {
   "cell_type": "markdown",
   "id": "3b72a1d2-fc31-4dc2-9941-fe3bfd5d86b9",
   "metadata": {},
   "source": [
    "## Installing Python"
   ]
  },
  {
   "cell_type": "code",
   "execution_count": null,
   "id": "4fb5fcc0-a3b1-4149-bc5d-dfdca0b305ac",
   "metadata": {},
   "outputs": [],
   "source": []
  },
  {
   "cell_type": "markdown",
   "id": "eb7e5784-5129-40a5-93c5-708fb9cf827e",
   "metadata": {},
   "source": [
    "## Your First Python Program: \"Hello, World!\""
   ]
  },
  {
   "cell_type": "code",
   "execution_count": null,
   "id": "e2a6616f-c9fe-472c-9b63-6bba67ff8417",
   "metadata": {},
   "outputs": [],
   "source": []
  },
  {
   "cell_type": "markdown",
   "id": "21bc660f-b26a-4635-938a-2ba777ff1532",
   "metadata": {},
   "source": [
    "## Using the Python Interpreter"
   ]
  },
  {
   "cell_type": "code",
   "execution_count": null,
   "id": "be7c973b-2c6e-41fe-930b-04e7630beedc",
   "metadata": {},
   "outputs": [],
   "source": []
  },
  {
   "cell_type": "markdown",
   "id": "dafecbc0-2a8a-4568-b8b1-aa39b0f4ef03",
   "metadata": {},
   "source": [
    "---"
   ]
  },
  {
   "cell_type": "markdown",
   "id": "b0c1d7db-b907-479d-8a78-2772f6d44c24",
   "metadata": {},
   "source": [
    "## 1. Basic Syntax and Core Data Types"
   ]
  },
  {
   "cell_type": "markdown",
   "id": "321dc34d-1819-489e-8999-b03c2cacbde4",
   "metadata": {},
   "source": [
    "### Variables and Costants\n",
    "In Python, a variable is a name that refers to a value stored in the computer's memory. Variables are used to store and manipulate data in your programs.\n",
    "\n",
    "#### Creating Variables\n",
    "To create a variable in Python, you simply assign a value to a name:"
   ]
  },
  {
   "cell_type": "code",
   "execution_count": 9,
   "id": "341aed4c-95dc-442e-88ff-bfe7d2dd45ea",
   "metadata": {},
   "outputs": [],
   "source": [
    "x = 5\n",
    "name = \"Alice\""
   ]
  },
  {
   "cell_type": "markdown",
   "id": "83ccb87e-7998-4019-8acd-f6ade147e6d0",
   "metadata": {},
   "source": [
    "Python uses dynamic typing, which means you don't need to declare the type of a variable explicitly. The type is inferred from the value assigned to it.\n",
    "\n",
    "#### Comparison with Statically Typed Languages\n",
    "\n",
    "Unlike Python, languages like `C` and `C++` use static typing:\n",
    "\n",
    "##### C (statically typed):\n",
    "```c\n",
    "int x = 5;      // x is declared as an integer\n",
    "x = \"hello\";    // Error: can't assign a string to an integer variable\n",
    "```\n",
    "\n",
    "##### C++ (statically typed, but with some type inference capabilities):\n",
    "```c++\n",
    "int x = 5;      // x is explicitly declared as an integer\n",
    "x = \"hello\";    // Error: can't assign a string to an integer variable\n",
    "\n",
    "auto y = 5;     // y is automatically deduced to be an integer\n",
    "y = \"hello\";    // Error: can't assign a string to an integer variable\n",
    "```\n",
    "\n",
    "This dynamic typing in `Python` allows for more flexible code, but it also means you need to be careful about type changes during your program's execution. In contrast, `C` and `C++` catch type mismatches at compile time, which can prevent certain types of runtime errors but requires more explicit type management.\n",
    "\n",
    "> Note: Terms like `integer` and `string` are used here for illustration. Other *data types* and *data structures* will also be introduced. Don't worry if you're not familiar with these specific *data types* and *data structures* yet. We'll explore Python's *data types* and *data structures* in detail in the next section."
   ]
  },
  {
   "cell_type": "markdown",
   "id": "cf0cd154-3707-4b5e-b291-7942cffefd67",
   "metadata": {},
   "source": [
    "#### Case Sensitivity in Python\n",
    "\n",
    "Python is a case-sensitive language. This means that uppercase and lowercase letters are treated as distinct characters in all contexts, including:\n",
    "\n",
    "- Variable names\n",
    "- Function names\n",
    "- Class names\n",
    "- Module names\n",
    "- Any other identifier\n",
    "\n",
    "##### Examples:"
   ]
  },
  {
   "cell_type": "code",
   "execution_count": 10,
   "id": "922b4e62-852c-40a7-a3a3-c47c2f00f0b5",
   "metadata": {},
   "outputs": [
    {
     "name": "stdout",
     "output_type": "stream",
     "text": [
      "1 2 3\n",
      "Hello\n",
      "This works\n"
     ]
    }
   ],
   "source": [
    "# These are three different variables\n",
    "variable = 1\n",
    "Variable = 2\n",
    "VARIABLE = 3\n",
    "\n",
    "print(variable, Variable, VARIABLE)  # Output: 1 2 3\n",
    "\n",
    "# Function names are also case-sensitive\n",
    "def greet():\n",
    "    print(\"Hello\")\n",
    "\n",
    "# greet() works, but Greet() would raise a NameError\n",
    "greet()  # Output: Hello\n",
    "# Greet()  # This would raise a NameError\n",
    "\n",
    "# Python keywords must be written as they are defined\n",
    "if True:\n",
    "    print(\"This works\")\n",
    "\n",
    "# IF True:  # This would raise a SyntaxError\n",
    "#     print(\"This doesn't work\")"
   ]
  },
  {
   "cell_type": "markdown",
   "id": "be97ea98-06f8-4b05-b66b-718bf457fe57",
   "metadata": {},
   "source": [
    "#### Naming Conventions\n",
    "- Use lowercase letters, numbers, and underscores\n",
    "- Start with a letter or underscore, not a number\n",
    "- Be descriptive but concise\n",
    "- For names with multiple words, separate them with underscores. This is called \"snake_case\"\n",
    "\n",
    "*Examples*:"
   ]
  },
  {
   "cell_type": "code",
   "execution_count": 11,
   "id": "f75ada63-0391-4443-a8b0-7d6ee3e4f93f",
   "metadata": {},
   "outputs": [],
   "source": [
    "user_name = \"John\"\n",
    "age_in_years = 25\n",
    "_temporary_value = 100"
   ]
  },
  {
   "cell_type": "markdown",
   "id": "06046030-8839-4ed9-b2ba-cb075298fbfa",
   "metadata": {},
   "source": [
    "#### Reassigning Variables\n",
    "You can change the value of a variable at any time:"
   ]
  },
  {
   "cell_type": "code",
   "execution_count": 12,
   "id": "ce257406-bc63-46f9-b611-a632832d6a5f",
   "metadata": {},
   "outputs": [
    {
     "name": "stdout",
     "output_type": "stream",
     "text": [
      "5\n",
      "The new value of the variable is:\n",
      "10\n"
     ]
    }
   ],
   "source": [
    "# Initialize variable x\n",
    "x = 5\n",
    "print(x)  # Output the initial value of x\n",
    "\n",
    "# Reassign a new value to variable x\n",
    "x = 10 # Overwrite the previous value of x with 10\n",
    "print('The new value of the variable is:') \n",
    "print(x)  # Output the new value of x after reassignment"
   ]
  },
  {
   "cell_type": "markdown",
   "id": "5bcf2d4b-a642-4826-88d1-4bd06ab6c7ed",
   "metadata": {},
   "source": [
    "#### Variables as References\n",
    "In Python, variables are references to objects in memory. This concept is fundamental to understanding how Python manages memory and how variables behave.\n",
    "\n",
    "#### Basic Concept\n",
    "When you assign a value to a variable, you're creating a reference to an object:"
   ]
  },
  {
   "cell_type": "code",
   "execution_count": 13,
   "id": "1b1a5190-1a65-4452-8b94-f1d96ecefcf9",
   "metadata": {},
   "outputs": [
    {
     "name": "stdout",
     "output_type": "stream",
     "text": [
      "[1, 2, 3, 4]\n",
      "[1, 2, 3, 4]\n"
     ]
    }
   ],
   "source": [
    "a = [1, 2, 3]  # 'a' references a list object\n",
    "b = a          # 'b' now references the same list object as 'a'\n",
    "b.append(4)    # Modifies the list referenced by both 'a' and 'b' by appending 4 to the end of the list\n",
    "print(a)       # Output: [1, 2, 3, 4]\n",
    "print(b)       # Output: [1, 2, 3, 4]"
   ]
  },
  {
   "cell_type": "markdown",
   "id": "3dc80d77-c672-4b74-8ee4-32d47220dc81",
   "metadata": {},
   "source": [
    "#### Immutable vs Mutable Objects\n",
    "The behavior of references becomes particularly important when dealing with mutable (changeable) and immutable (unchangeable) objects:\n",
    "\n",
    "1. Immutable objects (like `int`, `float`, `str`, `tuple`):"
   ]
  },
  {
   "cell_type": "code",
   "execution_count": 14,
   "id": "ca4babe5-c337-4dec-a73c-20449db340b8",
   "metadata": {},
   "outputs": [
    {
     "name": "stdout",
     "output_type": "stream",
     "text": [
      "5\n",
      "10\n"
     ]
    }
   ],
   "source": [
    "x = 5\n",
    "y = x\n",
    "y = 10\n",
    "print(x)  # Output: 5\n",
    "print(y)  # Output: 10"
   ]
  },
  {
   "cell_type": "markdown",
   "id": "c8657d60-717b-4c74-8699-6f7c32dcdeb9",
   "metadata": {},
   "source": [
    "Here, changing `y` doesn't affect `x` because integers are immutable.\n",
    "\n",
    "2. Mutable objects (like `list`, `dict`, `set`):"
   ]
  },
  {
   "cell_type": "code",
   "execution_count": 15,
   "id": "538ec76d-a827-46b5-b712-4a17f9adf2d3",
   "metadata": {},
   "outputs": [
    {
     "name": "stdout",
     "output_type": "stream",
     "text": [
      "[1, 2, 3, 4]\n",
      "[1, 2, 3, 4]\n"
     ]
    }
   ],
   "source": [
    "list1 = [1, 2, 3]\n",
    "list2 = list1\n",
    "list2.append(4) # appending 4 to the end of the list\n",
    "\n",
    "print(list1)  # Output: [1, 2, 3, 4]\n",
    "print(list2)  # Output: [1, 2, 3, 4]"
   ]
  },
  {
   "cell_type": "markdown",
   "id": "75ebe018-3574-4698-895e-778531e48b9f",
   "metadata": {},
   "source": [
    "Here, changing `list2` affects `list1` because they reference the same mutable object.\n",
    "\n",
    "To avoid this behavior and create a separate copy of the object, you can use the copy() method:"
   ]
  },
  {
   "cell_type": "code",
   "execution_count": 16,
   "id": "643711a6-fea0-405d-825b-f2e4a1d15170",
   "metadata": {},
   "outputs": [
    {
     "name": "stdout",
     "output_type": "stream",
     "text": [
      "[1, 2, 3]\n",
      "[1, 2, 3, 4]\n"
     ]
    }
   ],
   "source": [
    "list1 = [1, 2, 3]\n",
    "list2 = list1.copy()  # Creates a new list with the same elements\n",
    "list2.append(4)\n",
    "print(list1)  # Output: [1, 2, 3]\n",
    "print(list2)  # Output: [1, 2, 3, 4]"
   ]
  },
  {
   "cell_type": "markdown",
   "id": "1b4f6d54-01fd-4f79-ab55-45640095bd8a",
   "metadata": {},
   "source": [
    "Using `copy()` creates a new list object for `list2`, so modifying `list2` doesn't affect `list1`. This is useful when you want to work with a copy of a mutable object without changing the original."
   ]
  },
  {
   "cell_type": "markdown",
   "id": "35279686-77c9-4f33-8b78-4434452af3b0",
   "metadata": {},
   "source": [
    "#### Constants in Python\n",
    "Unlike many other programming languages, Python doesn't have built-in constant types. Instead, it relies on naming conventions and programmer discipline to indicate and treat certain variables as constants.\n",
    "#### Python's Approach to Constants\n",
    "In Python, we typically use all uppercase letters for names that should be treated as constants:"
   ]
  },
  {
   "cell_type": "code",
   "execution_count": 17,
   "id": "3094cafc-2f27-4950-8865-a9589be7db5f",
   "metadata": {},
   "outputs": [],
   "source": [
    "PI = 3.14159\n",
    "MAX_STUDENTS = 30\n",
    "DATABASE_URL = \"https://example.com/db\""
   ]
  },
  {
   "cell_type": "markdown",
   "id": "eb4e119e-c95c-4a3e-8230-050d9ba7f037",
   "metadata": {},
   "source": [
    "However, it's important to note that these are not true constants in the sense that they can't be changed. Python allows you to modify these values:"
   ]
  },
  {
   "cell_type": "code",
   "execution_count": 18,
   "id": "9f11b465-61f2-4f1f-8145-c3e5e1b28af8",
   "metadata": {},
   "outputs": [],
   "source": [
    "PI = 3.14  # This is allowed, but discouraged"
   ]
  },
  {
   "attachments": {},
   "cell_type": "markdown",
   "id": "ec98fac0-1506-4dd4-b16f-b6af842a53bd",
   "metadata": {},
   "source": [
    "#### Comparison with Other Languages\n",
    "In contrast, many other programming languages have mechanisms to create values that cannot be modified, although the specifics can vary:\n",
    "\n",
    "- C:\n",
    "\n",
    "``` c\n",
    "const int MAX_VALUE = 100;\n",
    "/* MAX_VALUE cannot be modified */\n",
    "// Single-line comment in C99 and later\n",
    "``` \n",
    "\n",
    "- Java:\n",
    "\n",
    "``` java\n",
    "int MAX_VALUE = 100;\n",
    "// MAX_VALUE cannot be reassigned\n",
    "// This is a standard single-line comment in Java\n",
    "```\n",
    "\n",
    "- C++:\n",
    "    \n",
    "``` c++\n",
    "int MAX_VALUE = 100;\n",
    "// MAX_VALUE cannot be modified\n",
    "// This is a standard single-line comment in C++\n",
    "``` \n",
    "\n",
    "In all these languages, attempting to modify a constant would result in a compilation error, unlike Python where it would be allowed but discouraged.\n",
    "\n",
    "#### Best Practices in Python\n",
    "While Python doesn't enforce constants, it's a good practice to:\n",
    "\n",
    "1. Use all uppercase letters for names intended to be constants.\n",
    "2. Avoid modifying these uppercase variables throughout your code.\n",
    "\n",
    "##### Using a Constants Module\n",
    "\n",
    "In larger Python projects, it's common to use a separate module for constants:\n",
    "\n",
    "1. Create a file named `constants.py`:\n",
    "\n",
    "```python\n",
    "# constants.py\n",
    "PI = 3.14159\n",
    "MAX_STUDENTS = 30\n",
    "```\n",
    "\n",
    "2. Now, in your main code or other files, you can import and use these constants:\n",
    "\n",
    "``` python\n",
    "# main.py\n",
    "import constants\n",
    "\n",
    "print(f\"Pi is approximately {constants.PI}\")\n",
    "print(f\"Maximum number of students: {constants.MAX_STUDENTS}\")\n",
    "``` \n",
    "\n",
    "This method improves code organization and makes it easier to manage constants across a large project. It also provides a clear indication to other developers that these values should not be changed during the program's execution.\n",
    "\n",
    "#### PEP 8 Naming conventions\n",
    "- Follow PEP 8 (Python's style guide) recommendations:\n",
    "    - Use lowercase for variable and function names (e.g., my_variable, calculate_total)\n",
    "    - Use CamelCase (also known as PascalCase) for class names (e.g., MyClass, CarEngine)\n",
    "    - Use uppercase for constants (e.g., MAX_VALUE, PI)"
   ]
  },
  {
   "cell_type": "markdown",
   "id": "bf5ee185-c9c1-4762-89fa-cb6a92be6f53",
   "metadata": {},
   "source": [
    "### Core Data Types in Python\n",
    "Python has several built-in data types. The most fundamental ones are:\n",
    "1. Numeric Types\n",
    "\n",
    "#### Integer (int)\n",
    "\n",
    "Represents whole numbers, positive or negative, without decimals."
   ]
  },
  {
   "cell_type": "code",
   "execution_count": 19,
   "id": "9906ec17-96c5-482e-8ecd-55ef9c89632d",
   "metadata": {},
   "outputs": [
    {
     "name": "stdout",
     "output_type": "stream",
     "text": [
      "<class 'int'>\n",
      "5 -10 1000000000000\n"
     ]
    }
   ],
   "source": [
    "x = 5\n",
    "y = -10\n",
    "big_number = 1000000000000  # Python handles large numbers automatically\n",
    "\n",
    "print(type(x))  # Output: <class 'int'>\n",
    "print(x, y, big_number)"
   ]
  },
  {
   "cell_type": "markdown",
   "id": "342ab6f1-57cb-41b7-a6b1-b5c402a2ac0f",
   "metadata": {},
   "source": [
    "#### Float\n",
    "Represents decimal numbers."
   ]
  },
  {
   "cell_type": "code",
   "execution_count": 20,
   "id": "2122e3aa-f968-4a20-8133-fe2560e94dd5",
   "metadata": {},
   "outputs": [
    {
     "name": "stdout",
     "output_type": "stream",
     "text": [
      "<class 'float'>\n",
      "5.0 -10.5 150.0\n"
     ]
    }
   ],
   "source": [
    "x = 5.0\n",
    "y = -10.5\n",
    "scientific = 1.5e2  # Scientific notation for 150.0\n",
    "\n",
    "print(type(x))  # Output: <class 'float'>\n",
    "print(x, y, scientific)"
   ]
  },
  {
   "cell_type": "markdown",
   "id": "11d0c4c0-2bdb-4d5b-8c82-c1deb2d1e9b2",
   "metadata": {},
   "source": [
    "2. Text Type\n",
    "   \n",
    "#### String (str)\n",
    "Represents a sequence of characters."
   ]
  },
  {
   "cell_type": "code",
   "execution_count": 21,
   "id": "940b51f8-42ab-4d4d-b0e1-9961874c434e",
   "metadata": {},
   "outputs": [
    {
     "name": "stdout",
     "output_type": "stream",
     "text": [
      "<class 'str'>\n",
      "Hello World\n",
      "This is a\n",
      "multi-line string\n"
     ]
    }
   ],
   "source": [
    "single_quotes = 'Hello'\n",
    "double_quotes = \"World\"\n",
    "multi_line = \"\"\"This is a\n",
    "multi-line string\"\"\"\n",
    "\n",
    "print(type(single_quotes))  # Output: <class 'str'>\n",
    "print(single_quotes, double_quotes)\n",
    "print(multi_line)"
   ]
  },
  {
   "cell_type": "markdown",
   "id": "ccc1b0e8-72c6-404f-a308-e70bfa303988",
   "metadata": {},
   "source": [
    "3. Boolean Type\n",
    "   \n",
    "#### Boolean (bool)\n",
    "Represents one of two values: True or False."
   ]
  },
  {
   "cell_type": "code",
   "execution_count": 22,
   "id": "ccd9ba65-d315-485e-a1dc-0cfe2d4a7119",
   "metadata": {},
   "outputs": [
    {
     "name": "stdout",
     "output_type": "stream",
     "text": [
      "<class 'bool'>\n",
      "True False\n"
     ]
    }
   ],
   "source": [
    "is_python_fun = True\n",
    "is_coding_boring = False\n",
    "\n",
    "print(type(is_python_fun))  # Output: <class 'bool'>\n",
    "print(is_python_fun, is_coding_boring)"
   ]
  },
  {
   "cell_type": "markdown",
   "id": "c47e934f-1664-41c1-a7ac-0f4fd1ec37bb",
   "metadata": {},
   "source": [
    "4. None Type\n",
    "   \n",
    "#### NoneType\n",
    "Represents the absence of a value or a null value."
   ]
  },
  {
   "cell_type": "code",
   "execution_count": 23,
   "id": "95715732-6149-459f-898e-696f6fd3dfa5",
   "metadata": {},
   "outputs": [
    {
     "name": "stdout",
     "output_type": "stream",
     "text": [
      "<class 'NoneType'>\n",
      "None\n"
     ]
    }
   ],
   "source": [
    "x = None\n",
    "print(type(x))  # Output: <class 'NoneType'>\n",
    "print(x)"
   ]
  },
  {
   "cell_type": "markdown",
   "id": "6a16a376-a0d8-42bb-833b-8b0d52eceb7d",
   "metadata": {},
   "source": [
    "#### Type Checking\n",
    "You can use the type() function to check the type of a value:"
   ]
  },
  {
   "cell_type": "code",
   "execution_count": 24,
   "id": "6b9b2cb8-7433-4193-b56e-22a21f072677",
   "metadata": {},
   "outputs": [
    {
     "name": "stdout",
     "output_type": "stream",
     "text": [
      "<class 'int'>\n",
      "<class 'float'>\n",
      "<class 'str'>\n",
      "<class 'bool'>\n",
      "<class 'NoneType'>\n"
     ]
    }
   ],
   "source": [
    "print(type(42))        # Output: <class 'int'>\n",
    "print(type(3.14))      # Output: <class 'float'>\n",
    "print(type(\"hello\"))   # Output: <class 'str'>\n",
    "print(type(True))      # Output: <class 'bool'>\n",
    "print(type(None))      # Output: <class 'NoneType'>"
   ]
  },
  {
   "cell_type": "markdown",
   "id": "51258f1c-1b70-47a2-8811-1eb8252db432",
   "metadata": {},
   "source": [
    "#### Type Conversion (Casting)\n",
    "Python allows conversion between different data type"
   ]
  },
  {
   "cell_type": "code",
   "execution_count": 25,
   "id": "4aaef33a-1b0f-4d19-ae78-587dabe1a2a6",
   "metadata": {},
   "outputs": [
    {
     "name": "stdout",
     "output_type": "stream",
     "text": [
      "3 10 5.0 3.14 42 3.14\n",
      "True False False True\n"
     ]
    }
   ],
   "source": [
    "# Converting to int\n",
    "x = int(3.14)    # x will be 3\n",
    "y = int(\"10\")    # y will be 10\n",
    "\n",
    "# Converting to float\n",
    "a = float(5)     # a will be 5.0\n",
    "b = float(\"3.14\")  # b will be 3.14\n",
    "\n",
    "# Converting to string\n",
    "s1 = str(42)     # s1 will be \"42\"\n",
    "s2 = str(3.14)   # s2 will be \"3.14\"\n",
    "\n",
    "# Converting to bool\n",
    "b1 = bool(1)     # b1 will be True\n",
    "b2 = bool(0)     # b2 will be False\n",
    "b3 = bool(\"\")    # b3 will be False (empty string)\n",
    "b4 = bool(\"hello\")  # b4 will be True (non-empty string)\n",
    "\n",
    "print(x, y, a, b, s1, s2)\n",
    "print(b1, b2, b3, b4)"
   ]
  },
  {
   "cell_type": "markdown",
   "id": "c10fda2c-c654-4b27-9188-b87f42123cd2",
   "metadata": {},
   "source": [
    "#### Additional Notes\n",
    "\n",
    "1. Integers: Python 3 has no limit to how long an integer value can be.\n",
    "2. Floats: Be aware of potential precision issues with float arithmetic due to how computers represent decimal numbers.\n",
    "3. Strings: Python strings are immutable, meaning you can't change a string once it's created. Any operation that seems to modify a string actually creates a new string.\n",
    "4. Booleans: Any object can be tested for truth value. The following values are considered false:\n",
    "\n",
    "- None\n",
    "- False\n",
    "- Zero of any numeric type (0, 0.0)\n",
    "- Empty sequences ('', [], ())\n",
    "- Empty mappings ({})\n",
    "\n",
    "\n",
    "5. None: It's often used to represent the absence of a value in cases where you need to differentiate between zero or an empty string.\n",
    "\n",
    "These data types provide the building blocks for constructing more complex data structures and performing operations in Python."
   ]
  },
  {
   "cell_type": "markdown",
   "id": "f2577039-85e8-4242-b639-22f62a1801d8",
   "metadata": {},
   "source": [
    "### Operators in Python\n",
    "\n",
    "Python provides various operators to perform operations on variables and values. Here are the main categories:\n",
    "\n",
    "#### 1. Arithmetic Operators\n",
    "\n",
    "Used for mathematical operations:\n",
    "\n",
    "| Operator | Name           | Example | Result |\n",
    "|----------|----------------|---------|--------|\n",
    "| +        | Addition       | 5 + 3   | 8      |\n",
    "| -        | Subtraction    | 5 - 3   | 2      |\n",
    "| *        | Multiplication | 5 * 3   | 15     |\n",
    "| /        | Division       | 5 / 3   | 1.6667 |\n",
    "| %        | Modulus        | 5 % 3   | 2      |\n",
    "| **       | Exponentiation | 5 ** 3  | 125    |\n",
    "| //       | Floor division | 5 // 3  | 1      |"
   ]
  },
  {
   "cell_type": "code",
   "execution_count": 26,
   "id": "c2771979-0b30-484a-bc0e-6a81da972834",
   "metadata": {},
   "outputs": [
    {
     "name": "stdout",
     "output_type": "stream",
     "text": [
      "x + y = 8\n",
      "x - y = 2\n",
      "x * y = 15\n",
      "x / y = 1.6666666666666667\n",
      "x % y = 2\n",
      "x ** y = 125\n",
      "x // y = 1\n"
     ]
    }
   ],
   "source": [
    "x, y = 5, 3\n",
    "print(f\"x + y = {x + y}\")\n",
    "print(f\"x - y = {x - y}\")\n",
    "print(f\"x * y = {x * y}\")\n",
    "print(f\"x / y = {x / y}\")\n",
    "print(f\"x % y = {x % y}\")\n",
    "print(f\"x ** y = {x ** y}\")\n",
    "print(f\"x // y = {x // y}\")"
   ]
  },
  {
   "cell_type": "markdown",
   "id": "89cfd3f4-c5c2-4375-870d-889f3dbf6420",
   "metadata": {},
   "source": [
    "#### 2. Comparison Operators\n",
    "\n",
    "Used for comparing values:\n",
    "\n",
    "| Operator | Name                     | Example | Result |\n",
    "|----------|--------------------------|---------|--------|\n",
    "| ==       | Equal to                 | 5 == 3  | False  |\n",
    "| !=       | Not equal to             | 5 != 3  | True   |\n",
    "| >        | Greater than             | 5 > 3   | True   |\n",
    "| <        | Less than                | 5 < 3   | False  |\n",
    "| >=       | Greater than or equal to | 5 >= 3  | True   |\n",
    "| <=       | Less than or equal to    | 5 <= 3  | False  |"
   ]
  },
  {
   "cell_type": "code",
   "execution_count": 27,
   "id": "513efd38-9064-4258-a4b2-bf6ad2bb1170",
   "metadata": {},
   "outputs": [
    {
     "name": "stdout",
     "output_type": "stream",
     "text": [
      "x == y is False\n",
      "x != y is True\n",
      "x > y is True\n",
      "x < y is False\n",
      "x >= y is True\n",
      "x <= y is False\n"
     ]
    }
   ],
   "source": [
    "x, y = 5, 3\n",
    "print(f\"x == y is {x == y}\")\n",
    "print(f\"x != y is {x != y}\")\n",
    "print(f\"x > y is {x > y}\")\n",
    "print(f\"x < y is {x < y}\")\n",
    "print(f\"x >= y is {x >= y}\")\n",
    "print(f\"x <= y is {x <= y}\")"
   ]
  },
  {
   "cell_type": "markdown",
   "id": "1d96bd7e-5142-4622-adbb-682db61300d1",
   "metadata": {},
   "source": [
    "#### 3. Logical Operators\n",
    "\n",
    "Used for combining conditional statements:\n",
    "\n",
    "| Operator | Description                                            |\n",
    "|----------|--------------------------------------------------------|\n",
    "| and      | Returns True if both statements are true               |\n",
    "| or       | Returns True if at least one of the statements is true |\n",
    "| not      | Reverses the result, returns False if the result is true |"
   ]
  },
  {
   "cell_type": "code",
   "execution_count": 28,
   "id": "a46c1e1a-629b-438d-bb35-b967f20a7cdb",
   "metadata": {},
   "outputs": [
    {
     "name": "stdout",
     "output_type": "stream",
     "text": [
      "x > 3 and x < 10 is True\n",
      "x < 3 or x > 10 is False\n",
      "not(x > 3 and x < 10) is False\n"
     ]
    }
   ],
   "source": [
    "x = 5\n",
    "print(f\"x > 3 and x < 10 is {x > 3 and x < 10}\")\n",
    "print(f\"x < 3 or x > 10 is {x < 3 or x > 10}\")\n",
    "print(f\"not(x > 3 and x < 10) is {not(x > 3 and x < 10)}\")"
   ]
  },
  {
   "cell_type": "markdown",
   "id": "b56a12ca-a7b2-4435-8d8c-3a51f4fb927f",
   "metadata": {},
   "source": [
    "#### 4. Assignment Operators\n",
    "\n",
    "Used for assigning values to variables:\n",
    "\n",
    "| Operator | Example | Equivalent to |\n",
    "|----------|---------|---------------|\n",
    "| =        | x = 5   | x = 5         |\n",
    "| +=       | x += 3  | x = x + 3     |\n",
    "| -=       | x -= 3  | x = x - 3     |\n",
    "| *=       | x *= 3  | x = x * 3     |\n",
    "| /=       | x /= 3  | x = x / 3     |\n",
    "| %=       | x %= 3  | x = x % 3     |\n",
    "| **=      | x **= 3 | x = x ** 3    |\n",
    "| //=      | x //= 3 | x = x // 3    |"
   ]
  },
  {
   "cell_type": "code",
   "execution_count": 29,
   "id": "e287e478-d0ce-402e-809c-478a218bea17",
   "metadata": {},
   "outputs": [
    {
     "name": "stdout",
     "output_type": "stream",
     "text": [
      "Initial x: 5\n",
      "After x += 3: 8\n",
      "After x *= 2: 16\n"
     ]
    }
   ],
   "source": [
    "x = 5\n",
    "print(f\"Initial x: {x}\")\n",
    "x += 3\n",
    "print(f\"After x += 3: {x}\")\n",
    "x *= 2\n",
    "print(f\"After x *= 2: {x}\")"
   ]
  },
  {
   "cell_type": "markdown",
   "id": "54c9f2cd-fd6c-4333-bf7c-a7edd7aff29b",
   "metadata": {},
   "source": [
    "#### 5. Bitwise Operators\n",
    "\n",
    "Used for performing bitwise calculations on integers:\n",
    "\n",
    "| Operator | Name                | Example | Result                    |\n",
    "|----------|--------------------|---------|---------------------------|\n",
    "| &        | AND                | 5 & 3   | 1 (0101 & 0011 = 0001)    |\n",
    "| \\|       | OR                 | 5 \\| 3  | 7 (0101 \\| 0011 = 0111)   |\n",
    "| ^        | XOR                | 5 ^ 3   | 6 (0101 ^ 0011 = 0110)    |\n",
    "| ~        | NOT                | ~5      | -6 (Inverts all bits)     |\n",
    "| <<       | Zero fill left shift | 5 << 1  | 10 (0101 becomes 1010)    |\n",
    "| >>       | Signed right shift | 5 >> 1  | 2 (0101 becomes 0010)     |"
   ]
  },
  {
   "cell_type": "code",
   "execution_count": 30,
   "id": "1547e231-1270-4791-bd62-793044b2822a",
   "metadata": {},
   "outputs": [
    {
     "name": "stdout",
     "output_type": "stream",
     "text": [
      "x & y = 1\n",
      "x | y = 7\n",
      "x ^ y = 6\n",
      "~x = -6\n",
      "x << 1 = 10\n",
      "x >> 1 = 2\n"
     ]
    }
   ],
   "source": [
    "x, y = 5, 3\n",
    "print(f\"x & y = {x & y}\")\n",
    "print(f\"x | y = {x | y}\")\n",
    "print(f\"x ^ y = {x ^ y}\")\n",
    "print(f\"~x = {~x}\")\n",
    "print(f\"x << 1 = {x << 1}\")\n",
    "print(f\"x >> 1 = {x >> 1}\")"
   ]
  },
  {
   "cell_type": "markdown",
   "id": "bf7256fa-433f-419d-96fc-3f068564b98f",
   "metadata": {},
   "source": [
    "\n",
    ">Note: Bitwise operators are generally used in low-level programming or in specific scenarios where direct manipulation of bits is necessary.\n",
    "\n",
    ">Understanding these operators is crucial for performing various operations and creating complex logic in Python programs."
   ]
  },
  {
   "cell_type": "code",
   "execution_count": null,
   "id": "a3abe64d-ae02-471a-9bf2-e5210016878f",
   "metadata": {},
   "outputs": [],
   "source": []
  }
 ],
 "metadata": {
  "kernelspec": {
   "display_name": "Python 3 (ipykernel)",
   "language": "python",
   "name": "python3"
  },
  "language_info": {
   "codemirror_mode": {
    "name": "ipython",
    "version": 3
   },
   "file_extension": ".py",
   "mimetype": "text/x-python",
   "name": "python",
   "nbconvert_exporter": "python",
   "pygments_lexer": "ipython3",
   "version": "3.12.0"
  }
 },
 "nbformat": 4,
 "nbformat_minor": 5
}
